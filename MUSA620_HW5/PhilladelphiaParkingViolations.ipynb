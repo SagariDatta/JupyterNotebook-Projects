{
 "cells": [
  {
   "cell_type": "code",
   "execution_count": 1,
   "metadata": {},
   "outputs": [],
   "source": [
    "#load libraries\n",
    "import pandas as pd\n",
    "import numpy as np\n",
    "import geopandas as gpd\n",
    "import cartopy.crs as ccrs\n",
    "from pyrestcli.auth import NoAuthClient\n",
    "from carto.sql import SQLClient\n",
    "import datashader as ds\n",
    "import datashader.transfer_functions as tf\n",
    "from datashader.colors import Greys9, viridis, inferno\n",
    "from colorcet import fire\n",
    "from datetime import datetime\n",
    "import imageio\n",
    "from datashader.utils import lnglat_to_meters as webm\n",
    "import matplotlib.pyplot as plt"
   ]
  },
  {
   "cell_type": "code",
   "execution_count": 2,
   "metadata": {},
   "outputs": [],
   "source": [
    "#initialize the SQL client object\n",
    "API_endpoint = \"https://phl.carto.com\"\n",
    "sql_client = SQLClient(NoAuthClient(API_endpoint))"
   ]
  },
  {
   "cell_type": "code",
   "execution_count": 3,
   "metadata": {},
   "outputs": [
    {
     "name": "stderr",
     "output_type": "stream",
     "text": [
      "/Users/sagaridatta/anaconda3/envs/musa-620/lib/python3.6/site-packages/pyrestcli/auth.py:79: UserWarning: You are using methods other than get with no authentication!!!\n",
      "  warnings.warn(_(\"You are using methods other than get with no authentication!!!\"))\n"
     ]
    }
   ],
   "source": [
    "#load parking violations data\n",
    "table_name = \"parking_violations\"\n",
    "query = \"SELECT * FROM %s\" %table_name\n",
    "features = sql_client.send(query, format='geojson')"
   ]
  },
  {
   "cell_type": "code",
   "execution_count": 4,
   "metadata": {},
   "outputs": [],
   "source": [
    "#convert geojson data to geopandas dataframe\n",
    "parking_violations = gpd.GeoDataFrame.from_features(features, \n",
    "                                           crs={'init':'epsg:4326'})"
   ]
  },
  {
   "cell_type": "code",
   "execution_count": 5,
   "metadata": {},
   "outputs": [],
   "source": [
    "#remove missing geometries\n",
    "parking_violations = parking_violations.loc[parking_violations.geometry.notnull()]"
   ]
  },
  {
   "cell_type": "code",
   "execution_count": 6,
   "metadata": {},
   "outputs": [
    {
     "data": {
      "text/plain": [
       "3347781"
      ]
     },
     "execution_count": 6,
     "metadata": {},
     "output_type": "execute_result"
    }
   ],
   "source": [
    "#check length of dataset\n",
    "len(parking_violations)"
   ]
  },
  {
   "cell_type": "code",
   "execution_count": 7,
   "metadata": {},
   "outputs": [
    {
     "data": {
      "text/html": [
       "<div>\n",
       "<style scoped>\n",
       "    .dataframe tbody tr th:only-of-type {\n",
       "        vertical-align: middle;\n",
       "    }\n",
       "\n",
       "    .dataframe tbody tr th {\n",
       "        vertical-align: top;\n",
       "    }\n",
       "\n",
       "    .dataframe thead th {\n",
       "        text-align: right;\n",
       "    }\n",
       "</style>\n",
       "<table border=\"1\" class=\"dataframe\">\n",
       "  <thead>\n",
       "    <tr style=\"text-align: right;\">\n",
       "      <th></th>\n",
       "      <th>anon_plate_id</th>\n",
       "      <th>anon_ticket_number</th>\n",
       "      <th>cartodb_id</th>\n",
       "      <th>division</th>\n",
       "      <th>fine</th>\n",
       "      <th>geometry</th>\n",
       "      <th>gps</th>\n",
       "      <th>issue_datetime</th>\n",
       "      <th>issuing_agency</th>\n",
       "      <th>lat</th>\n",
       "      <th>location</th>\n",
       "      <th>lon</th>\n",
       "      <th>state</th>\n",
       "      <th>violation_desc</th>\n",
       "      <th>zip_code</th>\n",
       "    </tr>\n",
       "  </thead>\n",
       "  <tbody>\n",
       "    <tr>\n",
       "      <th>0</th>\n",
       "      <td>878255</td>\n",
       "      <td>1777797</td>\n",
       "      <td>1</td>\n",
       "      <td>0001</td>\n",
       "      <td>41</td>\n",
       "      <td>POINT (-75.15893699999999 39.956252)</td>\n",
       "      <td>False</td>\n",
       "      <td>2013-08-22T12:36:00Z</td>\n",
       "      <td>PPA</td>\n",
       "      <td>39.956252</td>\n",
       "      <td>212 N 12TH ST</td>\n",
       "      <td>-75.158937</td>\n",
       "      <td>PA</td>\n",
       "      <td>EXPIRED INSPECTION</td>\n",
       "      <td>19107</td>\n",
       "    </tr>\n",
       "    <tr>\n",
       "      <th>1</th>\n",
       "      <td>878255</td>\n",
       "      <td>1777798</td>\n",
       "      <td>2</td>\n",
       "      <td>0001</td>\n",
       "      <td>36</td>\n",
       "      <td>POINT (-75.15473 39.955233)</td>\n",
       "      <td>False</td>\n",
       "      <td>2013-09-23T21:52:00Z</td>\n",
       "      <td>PPA</td>\n",
       "      <td>39.955233</td>\n",
       "      <td>900 RACE ST</td>\n",
       "      <td>-75.154730</td>\n",
       "      <td>PA</td>\n",
       "      <td>METER EXPIRED CC</td>\n",
       "      <td>19107</td>\n",
       "    </tr>\n",
       "    <tr>\n",
       "      <th>2</th>\n",
       "      <td>328900</td>\n",
       "      <td>1777799</td>\n",
       "      <td>3</td>\n",
       "      <td>0001</td>\n",
       "      <td>26</td>\n",
       "      <td>POINT (-75.172386 40.034175)</td>\n",
       "      <td>False</td>\n",
       "      <td>2013-11-23T12:25:00Z</td>\n",
       "      <td>PPA</td>\n",
       "      <td>40.034175</td>\n",
       "      <td>5448 GERMANTOWN AVE</td>\n",
       "      <td>-75.172386</td>\n",
       "      <td>NJ</td>\n",
       "      <td>METER EXPIRED</td>\n",
       "      <td>19144</td>\n",
       "    </tr>\n",
       "    <tr>\n",
       "      <th>4</th>\n",
       "      <td>665834</td>\n",
       "      <td>1777801</td>\n",
       "      <td>5</td>\n",
       "      <td>0001</td>\n",
       "      <td>36</td>\n",
       "      <td>POINT (-75.157291 39.952661)</td>\n",
       "      <td>False</td>\n",
       "      <td>2013-05-17T12:11:00Z</td>\n",
       "      <td>PPA</td>\n",
       "      <td>39.952661</td>\n",
       "      <td>1000 FILBERT ST</td>\n",
       "      <td>-75.157291</td>\n",
       "      <td>PA</td>\n",
       "      <td>METER EXPIRED CC</td>\n",
       "      <td>19107</td>\n",
       "    </tr>\n",
       "    <tr>\n",
       "      <th>5</th>\n",
       "      <td>847624</td>\n",
       "      <td>1777802</td>\n",
       "      <td>6</td>\n",
       "      <td></td>\n",
       "      <td>36</td>\n",
       "      <td>POINT (-75.162902 39.959713)</td>\n",
       "      <td>False</td>\n",
       "      <td>2013-10-15T12:10:00Z</td>\n",
       "      <td>PPA</td>\n",
       "      <td>39.959713</td>\n",
       "      <td>1400 CALLOWHILL ST</td>\n",
       "      <td>-75.162902</td>\n",
       "      <td>PA</td>\n",
       "      <td>METER EXPIRED CC</td>\n",
       "      <td>19130</td>\n",
       "    </tr>\n",
       "  </tbody>\n",
       "</table>\n",
       "</div>"
      ],
      "text/plain": [
       "  anon_plate_id  anon_ticket_number  cartodb_id division  fine  \\\n",
       "0        878255             1777797           1     0001    41   \n",
       "1        878255             1777798           2     0001    36   \n",
       "2        328900             1777799           3     0001    26   \n",
       "4        665834             1777801           5     0001    36   \n",
       "5        847624             1777802           6             36   \n",
       "\n",
       "                               geometry    gps        issue_datetime  \\\n",
       "0  POINT (-75.15893699999999 39.956252)  False  2013-08-22T12:36:00Z   \n",
       "1           POINT (-75.15473 39.955233)  False  2013-09-23T21:52:00Z   \n",
       "2          POINT (-75.172386 40.034175)  False  2013-11-23T12:25:00Z   \n",
       "4          POINT (-75.157291 39.952661)  False  2013-05-17T12:11:00Z   \n",
       "5          POINT (-75.162902 39.959713)  False  2013-10-15T12:10:00Z   \n",
       "\n",
       "  issuing_agency        lat             location        lon state  \\\n",
       "0            PPA  39.956252        212 N 12TH ST -75.158937    PA   \n",
       "1            PPA  39.955233          900 RACE ST -75.154730    PA   \n",
       "2            PPA  40.034175  5448 GERMANTOWN AVE -75.172386    NJ   \n",
       "4            PPA  39.952661      1000 FILBERT ST -75.157291    PA   \n",
       "5            PPA  39.959713   1400 CALLOWHILL ST -75.162902    PA   \n",
       "\n",
       "       violation_desc zip_code  \n",
       "0  EXPIRED INSPECTION    19107  \n",
       "1    METER EXPIRED CC    19107  \n",
       "2       METER EXPIRED    19144  \n",
       "4    METER EXPIRED CC    19107  \n",
       "5    METER EXPIRED CC    19130  "
      ]
     },
     "execution_count": 7,
     "metadata": {},
     "output_type": "execute_result"
    }
   ],
   "source": [
    "#check the parking_violations dataframe\n",
    "parking_violations.head()"
   ]
  },
  {
   "cell_type": "code",
   "execution_count": 8,
   "metadata": {},
   "outputs": [],
   "source": [
    "#transform to web mercator crs\n",
    "parking_violations['x'], parking_violations['y'] = webm(parking_violations['lon'], parking_violations['lat'])"
   ]
  },
  {
   "cell_type": "code",
   "execution_count": 9,
   "metadata": {},
   "outputs": [],
   "source": [
    "#load city limits data\n",
    "city_limits = gpd.read_file(\"City_Limits.geojson\").to_crs(epsg=3857)"
   ]
  },
  {
   "cell_type": "code",
   "execution_count": 10,
   "metadata": {},
   "outputs": [],
   "source": [
    "#function to generate datashaded image\n",
    "def create_image(df, x_range, y_range, w=900, h=900, cmap=inferno):\n",
    "    \n",
    "    # create the canvas\n",
    "    cvs = ds.Canvas(plot_width=w, plot_height=h, x_range=x_range, y_range=y_range)\n",
    "    \n",
    "    # plot parking violation positions, summing amount of fines\n",
    "    agg = cvs.points(df, 'x', 'y', ds.sum('fine'))\n",
    "    \n",
    "    # shade\n",
    "    img = tf.shade(agg, cmap=cmap, how='eq_hist')\n",
    "    \n",
    "    # return an PIL image\n",
    "    return tf.set_background(img, \"black\").to_pil()"
   ]
  },
  {
   "cell_type": "code",
   "execution_count": 11,
   "metadata": {},
   "outputs": [],
   "source": [
    "#convert to datetime object\n",
    "parking_violations['issue_datetime'] = pd.to_datetime(parking_violations['issue_datetime'])\n",
    "#add hour column\n",
    "parking_violations['hour'] = parking_violations['issue_datetime'].dt.hour"
   ]
  },
  {
   "cell_type": "code",
   "execution_count": 12,
   "metadata": {},
   "outputs": [],
   "source": [
    "#function to generate hour in am/pm format\n",
    "def convert_to_12hour(hr24):  \n",
    "    d = datetime.strptime(str(hr24), \"%H\")\n",
    "    return d.strftime(\"%I %p\")"
   ]
  },
  {
   "cell_type": "code",
   "execution_count": 13,
   "metadata": {},
   "outputs": [],
   "source": [
    "def plot_parking_violations(fig, df, hour):\n",
    "    # trim to the specific hour\n",
    "    df = df.loc[df['hour']==hour]\n",
    "    \n",
    "    #get extents from the 'city_limits' dataframe\n",
    "    extent = city_limits.total_bounds\n",
    "    x_range = extent[0], extent[2]\n",
    "    y_range = extent[1], extent[3]\n",
    "    \n",
    "    # create the datashaded image\n",
    "    img = create_image(df, x_range, y_range)\n",
    "    \n",
    "    # plot the image on a matplotlib axes\n",
    "    plt.clf()\n",
    "    ax = fig.gca()\n",
    "    ax.imshow(img, extent=[*x_range, *y_range])\n",
    "    ax.axis('off')\n",
    "    \n",
    "    # add city limits boundary i.e., Philadelphia boundary\n",
    "    city_limits.plot(ax=ax, facecolor='none', edgecolor='grey', linewidth=1)\n",
    "    \n",
    "    #add text label for hour\n",
    "    ax.text(0.05, 0.9, convert_to_12hour(hour), color='grey', \n",
    "            fontsize=40, ha='left', transform=ax.transAxes)\n",
    "\n",
    "    \n",
    "    #add plot title\n",
    "    fig.text(0.72, 0.2, 'Parking Violations', fontsize=25, color='grey', ha='center')\n",
    "    fig.text(0.72, 0.25, 'Philadelphia', fontsize=25, color='grey', ha='center')\n",
    "    \n",
    "    # format axes\n",
    "    ax.set_axis_off()\n",
    "    ax.set_aspect('equal')\n",
    "    fig.subplots_adjust(left=0, right=1, top=1, bottom=0)\n",
    "    fig.tight_layout()\n",
    "    \n",
    "    #draw the figure and return the image\n",
    "    fig.canvas.draw()   \n",
    "    image = np.frombuffer(fig.canvas.tostring_rgb(), dtype='uint8')\n",
    "    image = image.reshape(fig.canvas.get_width_height()[::-1] + (3,))\n",
    "    \n",
    "    return image"
   ]
  },
  {
   "cell_type": "code",
   "execution_count": 14,
   "metadata": {},
   "outputs": [
    {
     "data": {
      "image/png": "[encoded data removed]",
      "text/plain": [
       "<Figure size 720x720 with 1 Axes>"
      ]
     },
     "metadata": {},
     "output_type": "display_data"
    }
   ],
   "source": [
    "#create a figure\n",
    "fig, ax = plt.subplots(figsize=(10,10), facecolor='black')\n",
    "\n",
    "# make images for each hour\n",
    "hours = list(range(24))\n",
    "images = []\n",
    "for hour in hours:\n",
    "    image = plot_parking_violations(fig, parking_violations, hour)\n",
    "    images.append(image)\n",
    "    \n",
    "    \n",
    "# combine the images into a GIF\n",
    "imageio.mimsave('parkingViolations.gif', images, fps=1);"
   ]
  },
  {
   "cell_type": "code",
   "execution_count": null,
   "metadata": {},
   "outputs": [],
   "source": []
  }
 ],
 "metadata": {
  "kernelspec": {
   "display_name": "Python 3",
   "language": "python",
   "name": "python3"
  },
  "language_info": {
   "codemirror_mode": {
    "name": "ipython",
    "version": 3
   },
   "file_extension": ".py",
   "mimetype": "text/x-python",
   "name": "python",
   "nbconvert_exporter": "python",
   "pygments_lexer": "ipython3",
   "version": "3.6.7"
  }
 },
 "nbformat": 4,
 "nbformat_minor": 2
}
