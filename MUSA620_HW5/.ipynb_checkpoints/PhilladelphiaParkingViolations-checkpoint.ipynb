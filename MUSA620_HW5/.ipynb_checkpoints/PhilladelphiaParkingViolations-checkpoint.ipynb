{
 "cells": [
  {
   "cell_type": "code",
   "execution_count": 1,
   "metadata": {},
   "outputs": [],
   "source": [
    "#load libraries\n",
    "import pandas as pd\n",
    "import numpy as np\n",
    "import geopandas as gpd\n",
    "import cartopy.crs as ccrs\n",
    "from pyrestcli.auth import NoAuthClient\n",
    "from carto.sql import SQLClient\n",
    "import datashader as ds\n",
    "import datashader.transfer_functions as tf\n",
    "from datashader.colors import Greys9, viridis, inferno\n",
    "from colorcet import fire\n",
    "from datetime import datetime\n",
    "import imageio\n",
    "from datashader.utils import lnglat_to_meters as webm\n",
    "import matplotlib.pyplot as plt"
   ]
  },
  {
   "cell_type": "code",
   "execution_count": 2,
   "metadata": {},
   "outputs": [],
   "source": [
    "#initialize the SQL client object\n",
    "API_endpoint = \"https://phl.carto.com\"\n",
    "sql_client = SQLClient(NoAuthClient(API_endpoint))"
   ]
  },
  {
   "cell_type": "code",
   "execution_count": 3,
   "metadata": {},
   "outputs": [
    {
     "name": "stderr",
     "output_type": "stream",
     "text": [
      "/Users/sagaridatta/anaconda3/envs/musa-620/lib/python3.6/site-packages/pyrestcli/auth.py:79: UserWarning: You are using methods other than get with no authentication!!!\n",
      "  warnings.warn(_(\"You are using methods other than get with no authentication!!!\"))\n"
     ]
    }
   ],
   "source": [
    "#load parking violations data\n",
    "table_name = \"parking_violations\"\n",
    "query = \"SELECT * FROM %s\" %table_name\n",
    "features = sql_client.send(query, format='geojson')"
   ]
  },
  {
   "cell_type": "code",
   "execution_count": null,
   "metadata": {},
   "outputs": [],
   "source": [
    "#convert geojson data to geopandas dataframe\n",
    "parking_violations = gpd.GeoDataFrame.from_features(features, \n",
    "                                           crs={'init':'epsg:4326'})"
   ]
  },
  {
   "cell_type": "code",
   "execution_count": null,
   "metadata": {},
   "outputs": [],
   "source": [
    "#remove missing geometries\n",
    "parking_violations = parking_violations.loc[parking_violations.geometry.notnull()]"
   ]
  },
  {
   "cell_type": "code",
   "execution_count": null,
   "metadata": {},
   "outputs": [],
   "source": [
    "#check length of dataset\n",
    "len(parking_violations)"
   ]
  },
  {
   "cell_type": "code",
   "execution_count": null,
   "metadata": {},
   "outputs": [],
   "source": [
    "#check the parking_violations dataframe\n",
    "parking_violations.head()"
   ]
  },
  {
   "cell_type": "code",
   "execution_count": null,
   "metadata": {},
   "outputs": [],
   "source": [
    "#transform to web mercator crs\n",
    "parking_violations['x'], parking_violations['y'] = webm(parking_violations['lon'], parking_violations['lat'])"
   ]
  },
  {
   "cell_type": "code",
   "execution_count": null,
   "metadata": {},
   "outputs": [],
   "source": [
    "#load city limits data\n",
    "city_limits = gpd.read_file(\"City_Limits.geojson\").to_crs(epsg=3857)"
   ]
  },
  {
   "cell_type": "code",
   "execution_count": null,
   "metadata": {},
   "outputs": [],
   "source": [
    "#function to generate datashaded image\n",
    "def create_image(df, x_range, y_range, w=900, h=900, cmap=inferno):\n",
    "    \n",
    "    # create the canvas\n",
    "    cvs = ds.Canvas(plot_width=w, plot_height=h, x_range=x_range, y_range=y_range)\n",
    "    \n",
    "    # plot parking violation positions, summing amount of fines\n",
    "    agg = cvs.points(df, 'x', 'y', ds.sum('fine'))\n",
    "    \n",
    "    # shade\n",
    "    img = tf.shade(agg, cmap=cmap, how='eq_hist')\n",
    "    \n",
    "    # return an PIL image\n",
    "    return tf.set_background(img, \"black\").to_pil()"
   ]
  },
  {
   "cell_type": "code",
   "execution_count": null,
   "metadata": {},
   "outputs": [],
   "source": [
    "#convert to datetime object\n",
    "parking_violations['issue_datetime'] = pd.to_datetime(parking_violations['issue_datetime'])\n",
    "#add hour column\n",
    "parking_violations['hour'] = parking_violations['issue_datetime'].dt.hour"
   ]
  },
  {
   "cell_type": "code",
   "execution_count": null,
   "metadata": {},
   "outputs": [],
   "source": [
    "#function to generate hour in am/pm format\n",
    "def convert_to_12hour(hr24):  \n",
    "    d = datetime.strptime(str(hr24), \"%H\")\n",
    "    return d.strftime(\"%I %p\")"
   ]
  },
  {
   "cell_type": "code",
   "execution_count": null,
   "metadata": {},
   "outputs": [],
   "source": [
    "def plot_parking_violations(fig, df, hour):\n",
    "    # trim to the specific hour\n",
    "    df = df.loc[df['hour']==hour]\n",
    "    \n",
    "    #get extents from the 'city_limits' dataframe\n",
    "    extent = city_limits.total_bounds\n",
    "    x_range = extent[0], extent[2]\n",
    "    y_range = extent[1], extent[3]\n",
    "    \n",
    "    # create the datashaded image\n",
    "    img = create_image(df, x_range, y_range)\n",
    "    \n",
    "    # plot the image on a matplotlib axes\n",
    "    plt.clf()\n",
    "    ax = fig.gca()\n",
    "    ax.imshow(img, extent=[*x_range, *y_range])\n",
    "    ax.axis('off')\n",
    "    \n",
    "    # add city limits boundary i.e., Philadelphia boundary\n",
    "    city_limits.plot(ax=ax, facecolor='none', edgecolor='grey', linewidth=1)\n",
    "    \n",
    "    #add text label for hour\n",
    "    ax.text(0.05, 0.9, convert_to_12hour(hour), color='grey', \n",
    "            fontsize=40, ha='left', transform=ax.transAxes)\n",
    "\n",
    "    \n",
    "    #add plot title\n",
    "    fig.text(0.72, 0.2, 'Parking Violations', fontsize=25, color='grey', ha='center')\n",
    "    fig.text(0.72, 0.25, 'Philadelphia', fontsize=25, color='grey', ha='center')\n",
    "    \n",
    "    # format axes\n",
    "    ax.set_axis_off()\n",
    "    ax.set_aspect('equal')\n",
    "    fig.subplots_adjust(left=0, right=1, top=1, bottom=0)\n",
    "    fig.tight_layout()\n",
    "    \n",
    "    #draw the figure and return the image\n",
    "    fig.canvas.draw()   \n",
    "    image = np.frombuffer(fig.canvas.tostring_rgb(), dtype='uint8')\n",
    "    image = image.reshape(fig.canvas.get_width_height()[::-1] + (3,))\n",
    "    \n",
    "    return image"
   ]
  },
  {
   "cell_type": "code",
   "execution_count": null,
   "metadata": {},
   "outputs": [],
   "source": [
    "#create a figure\n",
    "fig, ax = plt.subplots(figsize=(10,10), facecolor='black')\n",
    "\n",
    "# make images for each hour\n",
    "hours = list(range(24))\n",
    "images = []\n",
    "for hour in hours:\n",
    "    image = plot_parking_violations(fig, parking_violations, hour)\n",
    "    images.append(image)\n",
    "    \n",
    "    \n",
    "# combine the images into a GIF\n",
    "imageio.mimsave('parkingViolations.gif', images, fps=1);"
   ]
  },
  {
   "cell_type": "code",
   "execution_count": null,
   "metadata": {},
   "outputs": [],
   "source": []
  }
 ],
 "metadata": {
  "kernelspec": {
   "display_name": "Python 3",
   "language": "python",
   "name": "python3"
  },
  "language_info": {
   "codemirror_mode": {
    "name": "ipython",
    "version": 3
   },
   "file_extension": ".py",
   "mimetype": "text/x-python",
   "name": "python",
   "nbconvert_exporter": "python",
   "pygments_lexer": "ipython3",
   "version": "3.6.7"
  }
 },
 "nbformat": 4,
 "nbformat_minor": 2
}
